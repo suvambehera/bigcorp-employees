{
 "cells": [
  {
   "cell_type": "code",
   "execution_count": 41,
   "metadata": {},
   "outputs": [],
   "source": [
    "from pyspark.sql import SparkSession\n",
    "spark = (SparkSession.builder.appName(\"suvam_capstone1\")\\\n",
    "        .config(\"hive.metastore.uris\",\"thrift://ip-10-1-2-24.ap-south-1.compute.internal:9083\")\\\n",
    "        .enableHiveSupport().getOrCreate())"
   ]
  },
  {
   "cell_type": "code",
   "execution_count": 42,
   "metadata": {},
   "outputs": [
    {
     "data": {
      "text/html": [
       "\n",
       "            <div>\n",
       "                <p><b>SparkSession - hive</b></p>\n",
       "                \n",
       "        <div>\n",
       "            <p><b>SparkContext</b></p>\n",
       "\n",
       "            <p><a href=\"http://ip-10-1-1-204.ap-south-1.compute.internal:43011\">Spark UI</a></p>\n",
       "\n",
       "            <dl>\n",
       "              <dt>Version</dt>\n",
       "                <dd><code>v2.4.0</code></dd>\n",
       "              <dt>Master</dt>\n",
       "                <dd><code>local[*]</code></dd>\n",
       "              <dt>AppName</dt>\n",
       "                <dd><code>suvam_capstone1</code></dd>\n",
       "            </dl>\n",
       "        </div>\n",
       "        \n",
       "            </div>\n",
       "        "
      ],
      "text/plain": [
       "<pyspark.sql.session.SparkSession at 0x7f7b380be450>"
      ]
     },
     "execution_count": 42,
     "metadata": {},
     "output_type": "execute_result"
    }
   ],
   "source": [
    "spark"
   ]
  },
  {
   "cell_type": "markdown",
   "metadata": {},
   "source": [
    "### 1. List employee number, first name, last name, sex, salary for each employee"
   ]
  },
  {
   "cell_type": "code",
   "execution_count": 43,
   "metadata": {
    "scrolled": true
   },
   "outputs": [
    {
     "name": "stdout",
     "output_type": "stream",
     "text": [
      "+------+----------+----------+---+------+\n",
      "|emp_no| last_name|first_name|sex|salary|\n",
      "+------+----------+----------+---+------+\n",
      "|473302|  Zallocco|  Hideyuki|  M| 40000|\n",
      "|475053| Delgrande|     Byong|  F| 53422|\n",
      "| 57444|      Babb|     Berry|  F| 48973|\n",
      "|421786|  Verhoeff|     Xiong|  M| 40000|\n",
      "|282238|   Baumann|Abdelkader|  F| 40000|\n",
      "|263976|  Cusworth|      Eran|  M| 40000|\n",
      "|273487|   Parfitt| Christoph|  M| 56087|\n",
      "|461591|  Samarati|    Xudong|  M| 40000|\n",
      "|477657| Magliocco|    Lihong|  M| 54816|\n",
      "|219881|     Speek| Kwangyoen|  F| 40000|\n",
      "| 29920|     Tyugu|   Shuichi|  F| 40000|\n",
      "|208153|      Lunn|   Abdulah|  M| 50183|\n",
      "| 13616|     Lorho|     Perry|  F| 40000|\n",
      "|246449|Bultermann|     Subbu|  F| 87084|\n",
      "| 21529|  Zallocco|     Bojan|  M| 40000|\n",
      "| 17934|  Wuwongse|  Bilhanan|  M| 48795|\n",
      "| 48085|      Gilg|Venkatesan|  M| 63016|\n",
      "|239838|     Dulli|   Naftali|  M| 57715|\n",
      "|240129|    Karnin|     Roddy|  M| 43548|\n",
      "|205246|    Demizu|     Nevio|  F| 80252|\n",
      "+------+----------+----------+---+------+\n",
      "only showing top 20 rows\n",
      "\n"
     ]
    }
   ],
   "source": [
    "spark.sql(\"select e.emp_no, e.last_name, e.first_name, e.sex, s.salary\\\n",
    "    from suvamalabs.employeesorg e inner join suvamalabs.salaries s\\\n",
    "    on e.emp_no = s.emp_no\").show()"
   ]
  },
  {
   "cell_type": "markdown",
   "metadata": {},
   "source": [
    "### 2. First name, last name, and hire date for employees who were hired in 1986"
   ]
  },
  {
   "cell_type": "code",
   "execution_count": 44,
   "metadata": {},
   "outputs": [
    {
     "name": "stdout",
     "output_type": "stream",
     "text": [
      "+----------+-----------+----------+\n",
      "|first_name|  last_name| hire_date|\n",
      "+----------+-----------+----------+\n",
      "|      Eran|   Cusworth|11/14/1986|\n",
      "|     Bojan|   Zallocco|10/14/1986|\n",
      "|     Nevio|     Demizu| 5/18/1986|\n",
      "|      Ziva|     Vecchi|  7/3/1986|\n",
      "|     Mohit|      Speek| 1/14/1986|\n",
      "|  Qunsheng|      Speer| 2/13/1986|\n",
      "|     Dines|Encarnacion|  8/2/1986|\n",
      "|  Harngdar|      Swick| 5/28/1986|\n",
      "|    Freyja|      Uhrig|12/20/1986|\n",
      "|   Zhenhua|    Milicic|  8/4/1986|\n",
      "|     Bowen|   Schmezko| 5/30/1986|\n",
      "|    Reuven|      Munke| 4/13/1986|\n",
      "| Stabislas|    Domenig|  8/4/1986|\n",
      "| Juichirou|   Jumpertz| 9/18/1986|\n",
      "| Juichirou|     Ghelli|12/13/1986|\n",
      "|    Shmuel|      Georg|11/30/1986|\n",
      "|   Xiadong|       Bach| 4/29/1986|\n",
      "| Guangming|Butterworth| 10/1/1986|\n",
      "|     Irene|      Setia| 8/10/1986|\n",
      "|   Shuichi|     Swiler|  6/8/1986|\n",
      "+----------+-----------+----------+\n",
      "only showing top 20 rows\n",
      "\n"
     ]
    }
   ],
   "source": [
    "spark.sql(\"select first_name, last_name, hire_date\\\n",
    "    from suvamalabs.employeesorg\\\n",
    "    where hire_date LIKE '%1986'\").show()"
   ]
  },
  {
   "cell_type": "markdown",
   "metadata": {},
   "source": [
    "###  3. List showing Manager of each department  with dept number, dept name, manager's emp number, last name and first name. "
   ]
  },
  {
   "cell_type": "code",
   "execution_count": 45,
   "metadata": {},
   "outputs": [
    {
     "name": "stdout",
     "output_type": "stream",
     "text": [
      "+-------+--------------------+------+------------+-----------+\n",
      "|dept_no|           dept_name|emp_no|   last_name| first_name|\n",
      "+-------+--------------------+------+------------+-----------+\n",
      "|   d001|         \"Marketing\"|110039|    Minakawa|   Vishwani|\n",
      "|   d001|         \"Marketing\"|110022|  Markovitch|  Margareta|\n",
      "|   d002|           \"Finance\"|110114|  Legleitner|      Isamu|\n",
      "|   d002|           \"Finance\"|110085|       Alpin|       Ebru|\n",
      "|   d003|   \"Human Resources\"|110228|     Sigstam|    Karsten|\n",
      "|   d003|   \"Human Resources\"|110183|Ossenbruggen|    Shirish|\n",
      "|   d004|        \"Production\"|110420|    Ghazalie|      Oscar|\n",
      "|   d004|        \"Production\"|110386|      Kieras|       Shem|\n",
      "|   d004|        \"Production\"|110344|       Cools|     Rosine|\n",
      "|   d004|        \"Production\"|110303|     Wegerle|  Krassimir|\n",
      "|   d005|       \"development\"|110567|    DasSarma|       Leon|\n",
      "|   d005|       \"development\"|110511|    Hagimont|   DeForest|\n",
      "|   d006|\"Quality Management\"|110854|       Pesch|       Dung|\n",
      "|   d006|\"Quality Management\"|110800|     Quadeer|     Sanjoy|\n",
      "|   d006|\"Quality Management\"|110765|     Hofmeyr|     Rutger|\n",
      "|   d006|\"Quality Management\"|110725|     Onuegbe|  Peternela|\n",
      "|   d007|             \"Sales\"|111133|       Zhang|      Hauke|\n",
      "|   d007|             \"Sales\"|111035|   Kaelbling|Przemyslawa|\n",
      "|   d008|          \"Research\"|111534|      Kambil|     Hilary|\n",
      "|   d008|          \"Research\"|111400|     Staelin|       Arie|\n",
      "+-------+--------------------+------+------------+-----------+\n",
      "only showing top 20 rows\n",
      "\n"
     ]
    }
   ],
   "source": [
    "spark.sql(\"select d.dept_no, d.dept_name, dm.emp_no, e.last_name, e.first_name\\\n",
    "    from suvamalabs.departments d inner join suvamalabs.dept_manager dm\\\n",
    "    on d.dept_no = dm.dept_no left join suvamalabs.employeesorg e\\\n",
    "    on e.emp_no = dm.emp_no\").show()"
   ]
  },
  {
   "cell_type": "markdown",
   "metadata": {},
   "source": [
    "### 4. List dept of each employee with emp number, last name, first name, dept name."
   ]
  },
  {
   "cell_type": "code",
   "execution_count": 46,
   "metadata": {},
   "outputs": [
    {
     "name": "stdout",
     "output_type": "stream",
     "text": [
      "+------+----------+----------+--------------------+\n",
      "|emp_no| last_name|first_name|           dept_name|\n",
      "+------+----------+----------+--------------------+\n",
      "|473302|  Zallocco|  Hideyuki|           \"Finance\"|\n",
      "|475053| Delgrande|     Byong|        \"Production\"|\n",
      "| 57444|      Babb|     Berry|        \"Production\"|\n",
      "|421786|  Verhoeff|     Xiong|   \"Human Resources\"|\n",
      "|282238|   Baumann|Abdelkader|\"Quality Management\"|\n",
      "|263976|  Cusworth|      Eran|\"Quality Management\"|\n",
      "|273487|   Parfitt| Christoph|   \"Human Resources\"|\n",
      "|461591|  Samarati|    Xudong|           \"Finance\"|\n",
      "|477657| Magliocco|    Lihong|\"Quality Management\"|\n",
      "|219881|     Speek| Kwangyoen|  \"Customer Service\"|\n",
      "| 29920|     Tyugu|   Shuichi|        \"Production\"|\n",
      "|208153|      Lunn|   Abdulah|       \"development\"|\n",
      "| 13616|     Lorho|     Perry|          \"Research\"|\n",
      "| 13616|     Lorho|     Perry|       \"development\"|\n",
      "|246449|Bultermann|     Subbu|             \"Sales\"|\n",
      "| 21529|  Zallocco|     Bojan|       \"development\"|\n",
      "| 17934|  Wuwongse|  Bilhanan|       \"development\"|\n",
      "| 48085|      Gilg|Venkatesan|           \"Finance\"|\n",
      "|239838|     Dulli|   Naftali|        \"Production\"|\n",
      "|240129|    Karnin|     Roddy|\"Quality Management\"|\n",
      "+------+----------+----------+--------------------+\n",
      "only showing top 20 rows\n",
      "\n"
     ]
    }
   ],
   "source": [
    "spark.sql(\"select e.emp_no, e.last_name, e.first_name, d.dept_name\\\n",
    "    from suvamalabs.employeesorg e inner join suvamalabs.dept_emp de\\\n",
    "    on e.emp_no = de.emp_no inner join suvamalabs.departments d\\\n",
    "    on de.dept_no = d.dept_no\").show()"
   ]
  },
  {
   "cell_type": "markdown",
   "metadata": {},
   "source": [
    "### 5. List of employees first name, last name, sex with first name 'Hercules' and last name begin with 'B'."
   ]
  },
  {
   "cell_type": "code",
   "execution_count": 47,
   "metadata": {},
   "outputs": [
    {
     "name": "stdout",
     "output_type": "stream",
     "text": [
      "+----------+-------------+---+\n",
      "|first_name|    last_name|sex|\n",
      "+----------+-------------+---+\n",
      "|  Hercules|         Baer|  M|\n",
      "|  Hercules|        Biron|  F|\n",
      "|  Hercules|        Birge|  F|\n",
      "|  Hercules|      Berstel|  F|\n",
      "|  Hercules|    Bernatsky|  M|\n",
      "|  Hercules|         Bail|  F|\n",
      "|  Hercules|       Bodoff|  M|\n",
      "|  Hercules|     Benantar|  F|\n",
      "|  Hercules|      Basagni|  M|\n",
      "|  Hercules|Bernardinello|  F|\n",
      "|  Hercules|   Baranowski|  M|\n",
      "|  Hercules|      Bisiani|  F|\n",
      "|  Hercules|   Benzmuller|  M|\n",
      "|  Hercules|         Bahr|  M|\n",
      "|  Hercules|        Biran|  F|\n",
      "|  Hercules|         Bain|  F|\n",
      "|  Hercules|      Brendel|  F|\n",
      "|  Hercules|      Buchter|  M|\n",
      "|  Hercules|     Barreiro|  M|\n",
      "|  Hercules|         Baak|  M|\n",
      "+----------+-------------+---+\n",
      "\n"
     ]
    }
   ],
   "source": [
    "spark.sql(\"select first_name, last_name, sex\\\n",
    "    from suvamalabs.employeesorg\\\n",
    "    where first_name LIKE 'Hercules' and\\\n",
    "        last_name LIKE 'B%'\").show()"
   ]
  },
  {
   "cell_type": "markdown",
   "metadata": {},
   "source": [
    "### 6. List of all employees in Sales departments with their emp number, last name, first name, dept name."
   ]
  },
  {
   "cell_type": "code",
   "execution_count": 48,
   "metadata": {},
   "outputs": [
    {
     "name": "stdout",
     "output_type": "stream",
     "text": [
      "+------+------------+----------+---------+\n",
      "|emp_no|   last_name|first_name|dept_name|\n",
      "+------+------------+----------+---------+\n",
      "| 10002|      Simmel|   Bezalel|  \"Sales\"|\n",
      "| 10016| Cappelletti|  Kazuhito|  \"Sales\"|\n",
      "| 10034|        Swan|     Bader|  \"Sales\"|\n",
      "| 10041|      Lenart|       Uri|  \"Sales\"|\n",
      "| 10050|      Dredge|   Yinghua|  \"Sales\"|\n",
      "| 10053|    Zschoche|    Sanjiv|  \"Sales\"|\n",
      "| 10060| Billingsley|  Breannda|  \"Sales\"|\n",
      "| 10061|      Herber|       Tse|  \"Sales\"|\n",
      "| 10068|     Brattka|  Charlene|  \"Sales\"|\n",
      "| 10087|     Eugenio|   Xinglin|  \"Sales\"|\n",
      "| 10088|    Syrzycki|  Jungsoon|  \"Sales\"|\n",
      "| 10089|Flasterstein| Sudharsan|  \"Sales\"|\n",
      "| 10093|     Desikan|   Sailaja|  \"Sales\"|\n",
      "| 10095|      Morton|    Hilari|  \"Sales\"|\n",
      "| 10099|     Sullins|    Valter|  \"Sales\"|\n",
      "| 10101|      Heyers|     Perla|  \"Sales\"|\n",
      "| 10107|        Baca|      Dung|  \"Sales\"|\n",
      "| 10125|     Hiltgen|     Syozo|  \"Sales\"|\n",
      "| 10136|    Pintelas|    Zissis|  \"Sales\"|\n",
      "| 10148|       Azumi|    Douadi|  \"Sales\"|\n",
      "+------+------------+----------+---------+\n",
      "only showing top 20 rows\n",
      "\n"
     ]
    }
   ],
   "source": [
    "spark.sql(\"\"\"select de.emp_no, e.last_name, e.first_name, d.dept_name\\\n",
    "    from suvamalabs.departments d inner join suvamalabs.dept_emp de\\\n",
    "    on d.dept_no = de.dept_no inner join suvamalabs.employeesorg e\\\n",
    "    on de.emp_no = e.emp_no\\\n",
    "    where d.dept_name LIKE '%Sales%'\"\"\").show()"
   ]
  },
  {
   "cell_type": "markdown",
   "metadata": {},
   "source": [
    "### 7. List of all employees in Sales and Development departments with their emp number, last name, first name, dept name."
   ]
  },
  {
   "cell_type": "code",
   "execution_count": 49,
   "metadata": {},
   "outputs": [
    {
     "name": "stdout",
     "output_type": "stream",
     "text": [
      "+------+-----------+----------+-------------+\n",
      "|emp_no|  last_name|first_name|    dept_name|\n",
      "+------+-----------+----------+-------------+\n",
      "| 10001|    Facello|    Georgi|\"development\"|\n",
      "| 10002|     Simmel|   Bezalel|      \"Sales\"|\n",
      "| 10006|    Preusig|    Anneke|\"development\"|\n",
      "| 10008|   Kalloufi|    Saniya|\"development\"|\n",
      "| 10012|  Bridgland|  Patricio|\"development\"|\n",
      "| 10014|      Genin|     Berni|\"development\"|\n",
      "| 10016|Cappelletti|  Kazuhito|      \"Sales\"|\n",
      "| 10018|       Peha|  Kazuhide|\"development\"|\n",
      "| 10021|       Erde|     Ramzi|\"development\"|\n",
      "| 10022|     Famili|    Shahaf|\"development\"|\n",
      "| 10023| Montemayor|     Bojan|\"development\"|\n",
      "| 10025|     Heyers| Prasadram|\"development\"|\n",
      "| 10027|    Reistad|    Divier|\"development\"|\n",
      "| 10028|   Tempesti|  Domenick|\"development\"|\n",
      "| 10031|     Joslin|   Karsten|\"development\"|\n",
      "| 10034|       Swan|     Bader|      \"Sales\"|\n",
      "| 10037|   Makrucki|   Pradeep|\"development\"|\n",
      "| 10040|    Meriste|     Weiyi|\"development\"|\n",
      "| 10041|     Lenart|       Uri|      \"Sales\"|\n",
      "| 10043|    Tzvieli|    Yishay|\"development\"|\n",
      "+------+-----------+----------+-------------+\n",
      "only showing top 20 rows\n",
      "\n"
     ]
    }
   ],
   "source": [
    "spark.sql(\"\"\"select de.emp_no, e.last_name, e.first_name, d.dept_name\\\n",
    "    from suvamalabs.departments d inner join suvamalabs.dept_emp de\\\n",
    "    on d.dept_no = de.dept_no inner join suvamalabs.employeesorg e\\\n",
    "    on de.emp_no = e.emp_no\\\n",
    "    where d.dept_name like '%Sales%' or d.dept_name like '%development%'\"\"\").show()"
   ]
  },
  {
   "cell_type": "markdown",
   "metadata": {},
   "source": [
    "### 8. List employee count with same last name"
   ]
  },
  {
   "cell_type": "code",
   "execution_count": 50,
   "metadata": {},
   "outputs": [
    {
     "name": "stdout",
     "output_type": "stream",
     "text": [
      "+-----------+-------------+\n",
      "|  last_name|surname_count|\n",
      "+-----------+-------------+\n",
      "|       Baba|          226|\n",
      "|      Coorg|          223|\n",
      "|     Gelosh|          223|\n",
      "|     Farris|          222|\n",
      "|    Sudbeck|          222|\n",
      "|     Adachi|          221|\n",
      "|     Osgood|          220|\n",
      "|     Neiman|          218|\n",
      "|    Mandell|          218|\n",
      "|     Masada|          218|\n",
      "|    Wendorf|          217|\n",
      "|Boudaillier|          217|\n",
      "|     Pettis|          216|\n",
      "|     Mahnke|          216|\n",
      "|    Solares|          216|\n",
      "|   Cummings|          216|\n",
      "|   Collette|          215|\n",
      "|   Birjandi|          215|\n",
      "|     Emmart|          215|\n",
      "| Maksimenko|          215|\n",
      "+-----------+-------------+\n",
      "only showing top 20 rows\n",
      "\n"
     ]
    }
   ],
   "source": [
    "spark.sql(\"select last_name, count(last_name) as surname_count\\\n",
    "    from suvamalabs.employeesorg\\\n",
    "    group by last_name\\\n",
    "    order by count(last_name) desc\").show()"
   ]
  },
  {
   "cell_type": "markdown",
   "metadata": {},
   "source": [
    "### 9. Histogram of Salary distribution"
   ]
  },
  {
   "cell_type": "code",
   "execution_count": 51,
   "metadata": {},
   "outputs": [],
   "source": [
    "import matplotlib.pyplot as plt\n",
    "import pandas as pd"
   ]
  },
  {
   "cell_type": "code",
   "execution_count": 52,
   "metadata": {},
   "outputs": [],
   "source": [
    "salaries = spark.sql(\"select * from suvamalabs.salaries\")"
   ]
  },
  {
   "cell_type": "code",
   "execution_count": 53,
   "metadata": {},
   "outputs": [],
   "source": [
    "salary = salaries.toPandas()"
   ]
  },
  {
   "cell_type": "code",
   "execution_count": 54,
   "metadata": {},
   "outputs": [
    {
     "data": {
      "text/html": [
       "<div>\n",
       "<style scoped>\n",
       "    .dataframe tbody tr th:only-of-type {\n",
       "        vertical-align: middle;\n",
       "    }\n",
       "\n",
       "    .dataframe tbody tr th {\n",
       "        vertical-align: top;\n",
       "    }\n",
       "\n",
       "    .dataframe thead th {\n",
       "        text-align: right;\n",
       "    }\n",
       "</style>\n",
       "<table border=\"1\" class=\"dataframe\">\n",
       "  <thead>\n",
       "    <tr style=\"text-align: right;\">\n",
       "      <th></th>\n",
       "      <th>emp_no</th>\n",
       "      <th>salary</th>\n",
       "    </tr>\n",
       "  </thead>\n",
       "  <tbody>\n",
       "    <tr>\n",
       "      <th>0</th>\n",
       "      <td>10001</td>\n",
       "      <td>60117</td>\n",
       "    </tr>\n",
       "    <tr>\n",
       "      <th>1</th>\n",
       "      <td>10002</td>\n",
       "      <td>65828</td>\n",
       "    </tr>\n",
       "    <tr>\n",
       "      <th>2</th>\n",
       "      <td>10003</td>\n",
       "      <td>40006</td>\n",
       "    </tr>\n",
       "    <tr>\n",
       "      <th>3</th>\n",
       "      <td>10004</td>\n",
       "      <td>40054</td>\n",
       "    </tr>\n",
       "    <tr>\n",
       "      <th>4</th>\n",
       "      <td>10005</td>\n",
       "      <td>78228</td>\n",
       "    </tr>\n",
       "    <tr>\n",
       "      <th>...</th>\n",
       "      <td>...</td>\n",
       "      <td>...</td>\n",
       "    </tr>\n",
       "    <tr>\n",
       "      <th>300019</th>\n",
       "      <td>499995</td>\n",
       "      <td>40000</td>\n",
       "    </tr>\n",
       "    <tr>\n",
       "      <th>300020</th>\n",
       "      <td>499996</td>\n",
       "      <td>58058</td>\n",
       "    </tr>\n",
       "    <tr>\n",
       "      <th>300021</th>\n",
       "      <td>499997</td>\n",
       "      <td>49597</td>\n",
       "    </tr>\n",
       "    <tr>\n",
       "      <th>300022</th>\n",
       "      <td>499998</td>\n",
       "      <td>40000</td>\n",
       "    </tr>\n",
       "    <tr>\n",
       "      <th>300023</th>\n",
       "      <td>499999</td>\n",
       "      <td>63707</td>\n",
       "    </tr>\n",
       "  </tbody>\n",
       "</table>\n",
       "<p>300024 rows × 2 columns</p>\n",
       "</div>"
      ],
      "text/plain": [
       "        emp_no  salary\n",
       "0        10001   60117\n",
       "1        10002   65828\n",
       "2        10003   40006\n",
       "3        10004   40054\n",
       "4        10005   78228\n",
       "...        ...     ...\n",
       "300019  499995   40000\n",
       "300020  499996   58058\n",
       "300021  499997   49597\n",
       "300022  499998   40000\n",
       "300023  499999   63707\n",
       "\n",
       "[300024 rows x 2 columns]"
      ]
     },
     "execution_count": 54,
     "metadata": {},
     "output_type": "execute_result"
    }
   ],
   "source": [
    "salary"
   ]
  },
  {
   "cell_type": "code",
   "execution_count": 55,
   "metadata": {},
   "outputs": [
    {
     "data": {
      "image/png": "[encoded data removed]",
      "text/plain": [
       "<Figure size 720x504 with 1 Axes>"
      ]
     },
     "metadata": {
      "needs_background": "light"
     },
     "output_type": "display_data"
    }
   ],
   "source": [
    "plt.rcParams['figure.figsize']=(10,7)\n",
    "plt.hist(salary['salary'],bins=9,color='xkcd:lavender',alpha=1,edgecolor='black')\n",
    "plt.title('Salary distribution',fontsize=20,pad=40)\n",
    "plt.xlabel('Salaries',fontsize=16,color='black',labelpad=20)\n",
    "plt.ylabel('Frequency Count',fontsize=16,color='black',labelpad=20)\n",
    "plt.xlim(36000,130000)\n",
    "plt.xticks(fontsize=12)\n",
    "plt.yticks(fontsize=12)\n",
    "plt.show()\n"
   ]
  },
  {
   "cell_type": "code",
   "execution_count": 56,
   "metadata": {},
   "outputs": [
    {
     "data": {
      "text/plain": [
       "<Figure size 720x504 with 0 Axes>"
      ]
     },
     "metadata": {},
     "output_type": "display_data"
    }
   ],
   "source": [
    "plt.savefig('employee_salary_distribution.png')\n",
    "\n",
    "plt.show()"
   ]
  },
  {
   "cell_type": "code",
   "execution_count": 57,
   "metadata": {},
   "outputs": [
    {
     "name": "stdout",
     "output_type": "stream",
     "text": [
      "+---------+--------+\n",
      "|     bins|count(1)|\n",
      "+---------+--------+\n",
      "|  70k-80k|   24814|\n",
      "|  80k-90k|   11845|\n",
      "|110k-120k|     195|\n",
      "| 90k-100k|    4284|\n",
      "|  40k-50k|  158465|\n",
      "|  60k-70k|   41413|\n",
      "|  50k-60k|   57915|\n",
      "|120k-130k|      24|\n",
      "|100k-110k|    1069|\n",
      "+---------+--------+\n",
      "\n"
     ]
    }
   ],
   "source": [
    "spark.sql(\"select bins, count(*)\\\n",
    "    from suvamalabs.bins\\\n",
    "    group by bins\").show()"
   ]
  },
  {
   "cell_type": "markdown",
   "metadata": {},
   "source": [
    "### 10. Average salary per designation usng Bar Chart "
   ]
  },
  {
   "cell_type": "code",
   "execution_count": 58,
   "metadata": {},
   "outputs": [],
   "source": [
    "Avg_salary = spark.sql(\"select t.title, avg(s.salary) as avg_salary\\\n",
    "    from suvamalabs.employeesorg e inner join suvamalabs.titles t\\\n",
    "    on e.emp_title = t.title_id inner join suvamalabs.salaries s\\\n",
    "    on e.emp_no = s.emp_no group by t.title\")"
   ]
  },
  {
   "cell_type": "code",
   "execution_count": 59,
   "metadata": {},
   "outputs": [],
   "source": [
    "Avg_Sal = Avg_salary.toPandas()"
   ]
  },
  {
   "cell_type": "code",
   "execution_count": 60,
   "metadata": {},
   "outputs": [
    {
     "data": {
      "text/html": [
       "<div>\n",
       "<style scoped>\n",
       "    .dataframe tbody tr th:only-of-type {\n",
       "        vertical-align: middle;\n",
       "    }\n",
       "\n",
       "    .dataframe tbody tr th {\n",
       "        vertical-align: top;\n",
       "    }\n",
       "\n",
       "    .dataframe thead th {\n",
       "        text-align: right;\n",
       "    }\n",
       "</style>\n",
       "<table border=\"1\" class=\"dataframe\">\n",
       "  <thead>\n",
       "    <tr style=\"text-align: right;\">\n",
       "      <th></th>\n",
       "      <th>title</th>\n",
       "      <th>avg_salary</th>\n",
       "    </tr>\n",
       "  </thead>\n",
       "  <tbody>\n",
       "    <tr>\n",
       "      <th>0</th>\n",
       "      <td>Staff</td>\n",
       "      <td>58465.382850</td>\n",
       "    </tr>\n",
       "    <tr>\n",
       "      <th>1</th>\n",
       "      <td>Assistant Engineer</td>\n",
       "      <td>48564.434447</td>\n",
       "    </tr>\n",
       "    <tr>\n",
       "      <th>2</th>\n",
       "      <td>Senior Staff</td>\n",
       "      <td>58550.172704</td>\n",
       "    </tr>\n",
       "    <tr>\n",
       "      <th>3</th>\n",
       "      <td>Senior Engineer</td>\n",
       "      <td>48506.799871</td>\n",
       "    </tr>\n",
       "    <tr>\n",
       "      <th>4</th>\n",
       "      <td>Engineer</td>\n",
       "      <td>48535.336511</td>\n",
       "    </tr>\n",
       "    <tr>\n",
       "      <th>5</th>\n",
       "      <td>Manager</td>\n",
       "      <td>51531.041667</td>\n",
       "    </tr>\n",
       "    <tr>\n",
       "      <th>6</th>\n",
       "      <td>Technique Leader</td>\n",
       "      <td>48582.896092</td>\n",
       "    </tr>\n",
       "  </tbody>\n",
       "</table>\n",
       "</div>"
      ],
      "text/plain": [
       "                title    avg_salary\n",
       "0               Staff  58465.382850\n",
       "1  Assistant Engineer  48564.434447\n",
       "2        Senior Staff  58550.172704\n",
       "3     Senior Engineer  48506.799871\n",
       "4            Engineer  48535.336511\n",
       "5             Manager  51531.041667\n",
       "6    Technique Leader  48582.896092"
      ]
     },
     "execution_count": 60,
     "metadata": {},
     "output_type": "execute_result"
    }
   ],
   "source": [
    "Avg_Sal"
   ]
  },
  {
   "cell_type": "code",
   "execution_count": 61,
   "metadata": {
    "scrolled": true
   },
   "outputs": [
    {
     "data": {
      "image/png": "[encoded data removed]",
      "text/plain": [
       "<Figure size 720x504 with 1 Axes>"
      ]
     },
     "metadata": {
      "needs_background": "light"
     },
     "output_type": "display_data"
    }
   ],
   "source": [
    "plt.rcParams['figure.figsize']=(10,7)\n",
    "plt.bar(Avg_Sal['title'], Avg_Sal['avg_salary'])\n",
    "plt.xlabel(\"Title\")\n",
    "plt.ylabel(\"Average Salary\")\n",
    "plt.title(\"Average Salary per Designation\")\n",
    "\n",
    "plt.show()"
   ]
  },
  {
   "cell_type": "markdown",
   "metadata": {},
   "source": [
    "### 11. Employees tenure"
   ]
  },
  {
   "cell_type": "code",
   "execution_count": 62,
   "metadata": {},
   "outputs": [],
   "source": [
    "emp_ten = spark.sql(\"select count(emp_no) as total_emp,case   \\\n",
    "                when left_year is null then (2013-hire_year)\\\n",
    "                else (left_year - hire_year)\\\n",
    "                end as tenure\\\n",
    "            from suvamalabs.employees_tenure\\\n",
    "            group by case    \\\n",
    "                when left_year is null then (2013-hire_year)\\\n",
    "                else (left_year - hire_year)\\\n",
    "                end\\\n",
    "            order by tenure\")"
   ]
  },
  {
   "cell_type": "code",
   "execution_count": 63,
   "metadata": {},
   "outputs": [],
   "source": [
    "emp_tenure = emp_ten.toPandas()"
   ]
  },
  {
   "cell_type": "code",
   "execution_count": 64,
   "metadata": {},
   "outputs": [
    {
     "data": {
      "text/html": [
       "<div>\n",
       "<style scoped>\n",
       "    .dataframe tbody tr th:only-of-type {\n",
       "        vertical-align: middle;\n",
       "    }\n",
       "\n",
       "    .dataframe tbody tr th {\n",
       "        vertical-align: top;\n",
       "    }\n",
       "\n",
       "    .dataframe thead th {\n",
       "        text-align: right;\n",
       "    }\n",
       "</style>\n",
       "<table border=\"1\" class=\"dataframe\">\n",
       "  <thead>\n",
       "    <tr style=\"text-align: right;\">\n",
       "      <th></th>\n",
       "      <th>total_emp</th>\n",
       "      <th>tenure</th>\n",
       "    </tr>\n",
       "  </thead>\n",
       "  <tbody>\n",
       "    <tr>\n",
       "      <th>0</th>\n",
       "      <td>266</td>\n",
       "      <td>1</td>\n",
       "    </tr>\n",
       "    <tr>\n",
       "      <th>1</th>\n",
       "      <td>1739</td>\n",
       "      <td>2</td>\n",
       "    </tr>\n",
       "    <tr>\n",
       "      <th>2</th>\n",
       "      <td>2049</td>\n",
       "      <td>3</td>\n",
       "    </tr>\n",
       "    <tr>\n",
       "      <th>3</th>\n",
       "      <td>2020</td>\n",
       "      <td>4</td>\n",
       "    </tr>\n",
       "    <tr>\n",
       "      <th>4</th>\n",
       "      <td>2022</td>\n",
       "      <td>5</td>\n",
       "    </tr>\n",
       "    <tr>\n",
       "      <th>5</th>\n",
       "      <td>1977</td>\n",
       "      <td>6</td>\n",
       "    </tr>\n",
       "    <tr>\n",
       "      <th>6</th>\n",
       "      <td>1939</td>\n",
       "      <td>7</td>\n",
       "    </tr>\n",
       "    <tr>\n",
       "      <th>7</th>\n",
       "      <td>1992</td>\n",
       "      <td>8</td>\n",
       "    </tr>\n",
       "    <tr>\n",
       "      <th>8</th>\n",
       "      <td>1980</td>\n",
       "      <td>9</td>\n",
       "    </tr>\n",
       "    <tr>\n",
       "      <th>9</th>\n",
       "      <td>1985</td>\n",
       "      <td>10</td>\n",
       "    </tr>\n",
       "    <tr>\n",
       "      <th>10</th>\n",
       "      <td>1997</td>\n",
       "      <td>11</td>\n",
       "    </tr>\n",
       "    <tr>\n",
       "      <th>11</th>\n",
       "      <td>1992</td>\n",
       "      <td>12</td>\n",
       "    </tr>\n",
       "    <tr>\n",
       "      <th>12</th>\n",
       "      <td>1938</td>\n",
       "      <td>13</td>\n",
       "    </tr>\n",
       "    <tr>\n",
       "      <th>13</th>\n",
       "      <td>1957</td>\n",
       "      <td>14</td>\n",
       "    </tr>\n",
       "    <tr>\n",
       "      <th>14</th>\n",
       "      <td>3817</td>\n",
       "      <td>15</td>\n",
       "    </tr>\n",
       "    <tr>\n",
       "      <th>15</th>\n",
       "      <td>6140</td>\n",
       "      <td>16</td>\n",
       "    </tr>\n",
       "    <tr>\n",
       "      <th>16</th>\n",
       "      <td>8830</td>\n",
       "      <td>17</td>\n",
       "    </tr>\n",
       "    <tr>\n",
       "      <th>17</th>\n",
       "      <td>11119</td>\n",
       "      <td>18</td>\n",
       "    </tr>\n",
       "    <tr>\n",
       "      <th>18</th>\n",
       "      <td>13617</td>\n",
       "      <td>19</td>\n",
       "    </tr>\n",
       "    <tr>\n",
       "      <th>19</th>\n",
       "      <td>16309</td>\n",
       "      <td>20</td>\n",
       "    </tr>\n",
       "    <tr>\n",
       "      <th>20</th>\n",
       "      <td>18763</td>\n",
       "      <td>21</td>\n",
       "    </tr>\n",
       "    <tr>\n",
       "      <th>21</th>\n",
       "      <td>20707</td>\n",
       "      <td>22</td>\n",
       "    </tr>\n",
       "    <tr>\n",
       "      <th>22</th>\n",
       "      <td>23553</td>\n",
       "      <td>23</td>\n",
       "    </tr>\n",
       "    <tr>\n",
       "      <th>23</th>\n",
       "      <td>26111</td>\n",
       "      <td>24</td>\n",
       "    </tr>\n",
       "    <tr>\n",
       "      <th>24</th>\n",
       "      <td>28792</td>\n",
       "      <td>25</td>\n",
       "    </tr>\n",
       "    <tr>\n",
       "      <th>25</th>\n",
       "      <td>30769</td>\n",
       "      <td>26</td>\n",
       "    </tr>\n",
       "    <tr>\n",
       "      <th>26</th>\n",
       "      <td>33178</td>\n",
       "      <td>27</td>\n",
       "    </tr>\n",
       "    <tr>\n",
       "      <th>27</th>\n",
       "      <td>32466</td>\n",
       "      <td>28</td>\n",
       "    </tr>\n",
       "  </tbody>\n",
       "</table>\n",
       "</div>"
      ],
      "text/plain": [
       "    total_emp  tenure\n",
       "0         266       1\n",
       "1        1739       2\n",
       "2        2049       3\n",
       "3        2020       4\n",
       "4        2022       5\n",
       "5        1977       6\n",
       "6        1939       7\n",
       "7        1992       8\n",
       "8        1980       9\n",
       "9        1985      10\n",
       "10       1997      11\n",
       "11       1992      12\n",
       "12       1938      13\n",
       "13       1957      14\n",
       "14       3817      15\n",
       "15       6140      16\n",
       "16       8830      17\n",
       "17      11119      18\n",
       "18      13617      19\n",
       "19      16309      20\n",
       "20      18763      21\n",
       "21      20707      22\n",
       "22      23553      23\n",
       "23      26111      24\n",
       "24      28792      25\n",
       "25      30769      26\n",
       "26      33178      27\n",
       "27      32466      28"
      ]
     },
     "execution_count": 64,
     "metadata": {},
     "output_type": "execute_result"
    }
   ],
   "source": [
    "emp_tenure"
   ]
  },
  {
   "cell_type": "code",
   "execution_count": 65,
   "metadata": {},
   "outputs": [
    {
     "data": {
      "image/png": "[encoded data removed]",
      "text/plain": [
       "<Figure size 1080x648 with 1 Axes>"
      ]
     },
     "metadata": {
      "needs_background": "light"
     },
     "output_type": "display_data"
    }
   ],
   "source": [
    "plt.rcParams['figure.figsize']=(15,9)\n",
    "plt.bar(emp_tenure['tenure'], emp_tenure['total_emp'])\n",
    "plt.xlabel(\"Tenure in years\")\n",
    "plt.ylabel(\"Total employees\")\n",
    "plt.title(\"Employee tenure distribution\")\n",
    "\n",
    "plt.show()"
   ]
  },
  {
   "cell_type": "markdown",
   "metadata": {},
   "source": [
    "### 12. Net expenditure each department"
   ]
  },
  {
   "cell_type": "code",
   "execution_count": 69,
   "metadata": {},
   "outputs": [],
   "source": [
    "dept_exp = spark.sql(\"SELECT d.dept_name, SUM(s.salary) AS total\\\n",
    "            FROM suvamalabs.departments d LEFT JOIN suvamalabs.dept_emp de \\\n",
    "                ON d.dept_no = de.dept_no INNER JOIN suvamalabs.employeesorg e \\\n",
    "                ON de.emp_no = e.emp_no INNER JOIN suvamalabs.salaries s \\\n",
    "                ON e.emp_no = s.emp_no GROUP BY d.dept_name\")"
   ]
  },
  {
   "cell_type": "code",
   "execution_count": 71,
   "metadata": {},
   "outputs": [],
   "source": [
    "dept_exp = dept_exp.toPandas()"
   ]
  },
  {
   "cell_type": "code",
   "execution_count": 72,
   "metadata": {},
   "outputs": [
    {
     "data": {
      "text/html": [
       "<div>\n",
       "<style scoped>\n",
       "    .dataframe tbody tr th:only-of-type {\n",
       "        vertical-align: middle;\n",
       "    }\n",
       "\n",
       "    .dataframe tbody tr th {\n",
       "        vertical-align: top;\n",
       "    }\n",
       "\n",
       "    .dataframe thead th {\n",
       "        text-align: right;\n",
       "    }\n",
       "</style>\n",
       "<table border=\"1\" class=\"dataframe\">\n",
       "  <thead>\n",
       "    <tr style=\"text-align: right;\">\n",
       "      <th></th>\n",
       "      <th>dept_name</th>\n",
       "      <th>total</th>\n",
       "    </tr>\n",
       "  </thead>\n",
       "  <tbody>\n",
       "    <tr>\n",
       "      <th>0</th>\n",
       "      <td>\"Quality Management\"</td>\n",
       "      <td>934555467</td>\n",
       "    </tr>\n",
       "    <tr>\n",
       "      <th>1</th>\n",
       "      <td>\"Production\"</td>\n",
       "      <td>3583161729</td>\n",
       "    </tr>\n",
       "    <tr>\n",
       "      <th>2</th>\n",
       "      <td>\"development\"</td>\n",
       "      <td>4173702462</td>\n",
       "    </tr>\n",
       "    <tr>\n",
       "      <th>3</th>\n",
       "      <td>\"Research\"</td>\n",
       "      <td>1032009108</td>\n",
       "    </tr>\n",
       "    <tr>\n",
       "      <th>4</th>\n",
       "      <td>\"Sales\"</td>\n",
       "      <td>3648379483</td>\n",
       "    </tr>\n",
       "    <tr>\n",
       "      <th>5</th>\n",
       "      <td>\"Finance\"</td>\n",
       "      <td>1032668378</td>\n",
       "    </tr>\n",
       "    <tr>\n",
       "      <th>6</th>\n",
       "      <td>\"Human Resources\"</td>\n",
       "      <td>794654412</td>\n",
       "    </tr>\n",
       "    <tr>\n",
       "      <th>7</th>\n",
       "      <td>\"Marketing\"</td>\n",
       "      <td>1234809182</td>\n",
       "    </tr>\n",
       "    <tr>\n",
       "      <th>8</th>\n",
       "      <td>\"Customer Service\"</td>\n",
       "      <td>1131808649</td>\n",
       "    </tr>\n",
       "  </tbody>\n",
       "</table>\n",
       "</div>"
      ],
      "text/plain": [
       "              dept_name       total\n",
       "0  \"Quality Management\"   934555467\n",
       "1          \"Production\"  3583161729\n",
       "2         \"development\"  4173702462\n",
       "3            \"Research\"  1032009108\n",
       "4               \"Sales\"  3648379483\n",
       "5             \"Finance\"  1032668378\n",
       "6     \"Human Resources\"   794654412\n",
       "7           \"Marketing\"  1234809182\n",
       "8    \"Customer Service\"  1131808649"
      ]
     },
     "execution_count": 72,
     "metadata": {},
     "output_type": "execute_result"
    }
   ],
   "source": [
    "dept_exp"
   ]
  },
  {
   "cell_type": "code",
   "execution_count": 74,
   "metadata": {},
   "outputs": [
    {
     "data": {
      "image/png": "[encoded data removed]",
      "text/plain": [
       "<Figure size 1080x648 with 1 Axes>"
      ]
     },
     "metadata": {
      "needs_background": "light"
     },
     "output_type": "display_data"
    }
   ],
   "source": [
    "plt.rcParams['figure.figsize']=(15,9)\n",
    "plt.bar(dept_exp['dept_name'], dept_exp['total'])\n",
    "plt.xlabel(\"Department\")\n",
    "plt.ylabel(\"Expenses\")\n",
    "plt.title(\"Net department expenditure\")\n",
    "\n",
    "plt.show()"
   ]
  },
  {
   "cell_type": "markdown",
   "metadata": {},
   "source": [
    "### 13. Sex ratio department wise"
   ]
  },
  {
   "cell_type": "code",
   "execution_count": 77,
   "metadata": {},
   "outputs": [
    {
     "name": "stdout",
     "output_type": "stream",
     "text": [
      "+--------------------+----------+------------+------------------+\n",
      "|           dept_name|Male_Count|Female_Count|             ratio|\n",
      "+--------------------+----------+------------+------------------+\n",
      "|\"Quality Management\"|     12039|        8078| 1.490344144590245|\n",
      "|        \"Production\"|     43936|       29549|1.4868861890419303|\n",
      "|       \"development\"|     51449|       34258|1.5018097962519703|\n",
      "|          \"Research\"|     12687|        8439| 1.503377177390686|\n",
      "|             \"Sales\"|     31391|       20854|1.5052747674307088|\n",
      "|           \"Finance\"|     10331|        7015|1.4727013542409124|\n",
      "|   \"Human Resources\"|     10711|        7075| 1.513922261484099|\n",
      "|         \"Marketing\"|     12174|        8037|1.5147443075774543|\n",
      "|  \"Customer Service\"|     14132|        9448| 1.495766299745978|\n",
      "+--------------------+----------+------------+------------------+\n",
      "\n"
     ]
    }
   ],
   "source": [
    "spark.sql(\"SELECT d.dept_name, SUM(CASE WHEN e.sex = 'M' THEN 1 ELSE 0 END) AS Male_Count, \\\n",
    "                 SUM(CASE WHEN e.sex = 'F' THEN 1 ELSE 0 END) AS Female_Count, \\\n",
    "        COUNT(IF(e.sex = 'M', 1, NULL))/COUNT(IF(e.sex = 'F', 1, NULL)) as ratio\\\n",
    "        FROM suvamalabs.employeesorg e LEFT JOIN suvamalabs.dept_emp de \\\n",
    "        ON e.emp_no = de.emp_no INNER JOIN suvamalabs.departments d \\\n",
    "        ON d.dept_no = de.dept_no GROUP BY d.dept_name\").show()"
   ]
  },
  {
   "cell_type": "markdown",
   "metadata": {},
   "source": [
    "### 14. Highest paid employee"
   ]
  },
  {
   "cell_type": "code",
   "execution_count": 78,
   "metadata": {},
   "outputs": [
    {
     "name": "stdout",
     "output_type": "stream",
     "text": [
      "+-------------+----------+---------+------+\n",
      "|    dept_name|first_name|last_name|salary|\n",
      "+-------------+----------+---------+------+\n",
      "|\"development\"|    Anneke|  Preusig| 40000|\n",
      "+-------------+----------+---------+------+\n",
      "\n"
     ]
    }
   ],
   "source": [
    "spark.sql(\"SELECT d.dept_name, e.first_name, e.last_name, s.salary\\\n",
    "            FROM suvamalabs.departments d LEFT JOIN suvamalabs.dept_emp de \\\n",
    "                ON d.dept_no = de.dept_no INNER JOIN suvamalabs.employeesorg e \\\n",
    "                ON de.emp_no = e.emp_no INNER JOIN suvamalabs.salaries s \\\n",
    "                ON e.emp_no = s.emp_no\\\n",
    "            ORDER BY s.salary LIMIT 1\").show()"
   ]
  },
  {
   "cell_type": "markdown",
   "metadata": {},
   "source": [
    "### 15. Number of employees at each designation"
   ]
  },
  {
   "cell_type": "code",
   "execution_count": 79,
   "metadata": {},
   "outputs": [
    {
     "name": "stdout",
     "output_type": "stream",
     "text": [
      "+------------------+---------------+\n",
      "|             title|total_employees|\n",
      "+------------------+---------------+\n",
      "|             Staff|         107384|\n",
      "|Assistant Engineer|           5835|\n",
      "|      Senior Staff|          26583|\n",
      "|   Senior Engineer|          97747|\n",
      "|          Engineer|          47303|\n",
      "|           Manager|             24|\n",
      "|  Technique Leader|          15148|\n",
      "+------------------+---------------+\n",
      "\n"
     ]
    }
   ],
   "source": [
    "spark.sql(\"SELECT t.title, COUNT(*) AS total_employees\\\n",
    "        FROM suvamalabs.employeesorg e INNER JOIN suvamalabs.titles t \\\n",
    "            ON e.emp_title = t.title_id GROUP BY t.title\").show()"
   ]
  },
  {
   "cell_type": "markdown",
   "metadata": {},
   "source": [
    "### 16. Performance rating frequency"
   ]
  },
  {
   "cell_type": "code",
   "execution_count": 82,
   "metadata": {},
   "outputs": [
    {
     "name": "stdout",
     "output_type": "stream",
     "text": [
      "+-----------------------+--------------------+---------+\n",
      "|last_performance_rating|           dept_name|total_emp|\n",
      "+-----------------------+--------------------+---------+\n",
      "|                      B|       \"development\"|    30609|\n",
      "|                      A|       \"development\"|    27233|\n",
      "|                      B|        \"Production\"|    26233|\n",
      "|                      A|        \"Production\"|    23531|\n",
      "|                      C|       \"development\"|    20372|\n",
      "|                      B|             \"Sales\"|    18764|\n",
      "|                      C|        \"Production\"|    17477|\n",
      "|                      A|             \"Sales\"|    16641|\n",
      "|                      C|             \"Sales\"|    12427|\n",
      "|                      B|  \"Customer Service\"|     8462|\n",
      "|                      A|  \"Customer Service\"|     7478|\n",
      "|                      B|          \"Research\"|     7438|\n",
      "|                      B|\"Quality Management\"|     7244|\n",
      "|                      B|         \"Marketing\"|     7147|\n",
      "|                      A|          \"Research\"|     6834|\n",
      "|                      A|         \"Marketing\"|     6476|\n",
      "|                      A|\"Quality Management\"|     6436|\n",
      "|                      B|           \"Finance\"|     6255|\n",
      "|                      B|   \"Human Resources\"|     6238|\n",
      "|                      A|   \"Human Resources\"|     5762|\n",
      "+-----------------------+--------------------+---------+\n",
      "only showing top 20 rows\n",
      "\n"
     ]
    }
   ],
   "source": [
    "spark.sql(\"SELECT e.last_performance_rating, d.dept_name, COUNT(*) AS total_emp\\\n",
    "            FROM suvamalabs.departments d LEFT JOIN suvamalabs.dept_emp de \\\n",
    "                ON d.dept_no = de.dept_no INNER JOIN suvamalabs.employeesorg e \\\n",
    "                ON de.emp_no = e.emp_no\\\n",
    "            GROUP BY e.last_performance_rating, d.dept_name ORDER BY total_emp DESC\").show()"
   ]
  },
  {
   "cell_type": "code",
   "execution_count": null,
   "metadata": {},
   "outputs": [],
   "source": []
  }
 ],
 "metadata": {
  "kernelspec": {
   "display_name": "Python 3",
   "language": "python",
   "name": "python3"
  },
  "language_info": {
   "codemirror_mode": {
    "name": "ipython",
    "version": 3
   },
   "file_extension": ".py",
   "mimetype": "text/x-python",
   "name": "python",
   "nbconvert_exporter": "python",
   "pygments_lexer": "ipython3",
   "version": "3.7.6"
  }
 },
 "nbformat": 4,
 "nbformat_minor": 4
}
