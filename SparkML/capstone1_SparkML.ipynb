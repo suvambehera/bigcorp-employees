{
 "cells": [
  {
   "cell_type": "code",
   "execution_count": 514,
   "metadata": {},
   "outputs": [],
   "source": [
    "from pyspark.sql import SparkSession\n",
    "from pyspark.sql.types import *\n",
    "from pyspark.sql.functions import *\n",
    "spark = (SparkSession.builder.appName(\"project\")\\\n",
    ".config(\"hive.metastore.uris\",\"thrift://ip-10-1-2-24.ap-south-1.compute.internal:9083\")\\\n",
    ".enableHiveSupport().getOrCreate())"
   ]
  },
  {
   "cell_type": "code",
   "execution_count": 515,
   "metadata": {},
   "outputs": [
    {
     "data": {
      "text/html": [
       "\n",
       "            <div>\n",
       "                <p><b>SparkSession - hive</b></p>\n",
       "                \n",
       "        <div>\n",
       "            <p><b>SparkContext</b></p>\n",
       "\n",
       "            <p><a href=\"http://ip-10-1-1-204.ap-south-1.compute.internal:43019\">Spark UI</a></p>\n",
       "\n",
       "            <dl>\n",
       "              <dt>Version</dt>\n",
       "                <dd><code>v2.4.0</code></dd>\n",
       "              <dt>Master</dt>\n",
       "                <dd><code>local[*]</code></dd>\n",
       "              <dt>AppName</dt>\n",
       "                <dd><code>project</code></dd>\n",
       "            </dl>\n",
       "        </div>\n",
       "        \n",
       "            </div>\n",
       "        "
      ],
      "text/plain": [
       "<pyspark.sql.session.SparkSession at 0x7f87cc0ba1d0>"
      ]
     },
     "execution_count": 515,
     "metadata": {},
     "output_type": "execute_result"
    }
   ],
   "source": [
    "spark"
   ]
  },
  {
   "cell_type": "code",
   "execution_count": 516,
   "metadata": {
    "scrolled": true
   },
   "outputs": [
    {
     "name": "stdout",
     "output_type": "stream",
     "text": [
      "++\n",
      "||\n",
      "++\n",
      "++\n",
      "\n"
     ]
    }
   ],
   "source": [
    "spark.sql('use suvamalabs').show()"
   ]
  },
  {
   "cell_type": "code",
   "execution_count": 517,
   "metadata": {},
   "outputs": [],
   "source": [
    "employees=spark.sql(\"select * from employeesorg\")\n",
    "departments=spark.sql(\"select * from departments\")\n",
    "dept_managers=spark.sql(\"select * from dept_manager\")\n",
    "dept_emp=spark.sql(\"select * from dept_emp\")\n",
    "salaries=spark.sql(\"select * from salaries\")\n",
    "titles=spark.sql(\"select * from titles\")"
   ]
  },
  {
   "cell_type": "code",
   "execution_count": 518,
   "metadata": {},
   "outputs": [],
   "source": [
    "#cleaning name within quotes\n",
    "\n",
    "departments = departments.withColumn('dept_name',regexp_replace('dept_name', '\"', ''))"
   ]
  },
  {
   "cell_type": "code",
   "execution_count": 519,
   "metadata": {},
   "outputs": [],
   "source": [
    "#create pandas dataframe\n",
    "employees_df = employees.toPandas()\n",
    "departments_df = departments.toPandas()\n",
    "dept_managers_df = dept_managers.toPandas()\n",
    "dept_emp_df = dept_emp.toPandas()\n",
    "salaries_df = salaries.toPandas()\n",
    "titles_df = titles.toPandas()"
   ]
  },
  {
   "cell_type": "code",
   "execution_count": 520,
   "metadata": {},
   "outputs": [],
   "source": [
    "import pandas as pd"
   ]
  },
  {
   "cell_type": "code",
   "execution_count": 521,
   "metadata": {},
   "outputs": [],
   "source": [
    "emp_data = employees_df.merge(dept_emp_df, how='left', on='emp_no')"
   ]
  },
  {
   "cell_type": "code",
   "execution_count": 522,
   "metadata": {},
   "outputs": [],
   "source": [
    "emp_data_df1 = emp_data.merge(departments_df, how='left', on='dept_no')"
   ]
  },
  {
   "cell_type": "code",
   "execution_count": 523,
   "metadata": {},
   "outputs": [],
   "source": [
    "emp_data_df2 = emp_data_df1.merge(salaries_df, how='left', on='emp_no')"
   ]
  },
  {
   "cell_type": "code",
   "execution_count": 524,
   "metadata": {},
   "outputs": [],
   "source": [
    "emp_data_df3 = emp_data_df2.merge(titles_df, how='left', left_on = 'emp_title', right_on = 'title_id')"
   ]
  },
  {
   "cell_type": "code",
   "execution_count": 525,
   "metadata": {
    "scrolled": true
   },
   "outputs": [
    {
     "name": "stdout",
     "output_type": "stream",
     "text": [
      "<class 'pandas.core.frame.DataFrame'>\n",
      "Int64Index: 331603 entries, 0 to 331602\n",
      "Data columns (total 16 columns):\n",
      " #   Column                   Non-Null Count   Dtype \n",
      "---  ------                   --------------   ----- \n",
      " 0   emp_no                   331603 non-null  int32 \n",
      " 1   emp_title                331603 non-null  object\n",
      " 2   birth_date               331603 non-null  object\n",
      " 3   first_name               331603 non-null  object\n",
      " 4   last_name                331603 non-null  object\n",
      " 5   sex                      331603 non-null  object\n",
      " 6   hire_date                331603 non-null  object\n",
      " 7   no_of_projects           331603 non-null  int32 \n",
      " 8   last_performance_rating  331603 non-null  object\n",
      " 9   last_date                331603 non-null  object\n",
      " 10  left_org                 331603 non-null  object\n",
      " 11  dept_no                  331603 non-null  object\n",
      " 12  dept_name                331603 non-null  object\n",
      " 13  salary                   331603 non-null  int32 \n",
      " 14  title_id                 331603 non-null  object\n",
      " 15  title                    331603 non-null  object\n",
      "dtypes: int32(3), object(13)\n",
      "memory usage: 39.2+ MB\n"
     ]
    }
   ],
   "source": [
    "emp_data_df3.info()"
   ]
  },
  {
   "cell_type": "code",
   "execution_count": 526,
   "metadata": {},
   "outputs": [],
   "source": [
    "emp_data_df3['last_date'] = emp_data_df3['last_date'].replace(to_replace = '\\r', value = '', regex = True)"
   ]
  },
  {
   "cell_type": "code",
   "execution_count": 527,
   "metadata": {},
   "outputs": [],
   "source": [
    "emp_data_df3['last_performance_rating'] = emp_data_df3['last_performance_rating'].replace(to_replace = 'S',value = 4)\n",
    "emp_data_df3['last_performance_rating'] = emp_data_df3['last_performance_rating'].replace(to_replace = 'A',value = 3)\n",
    "emp_data_df3['last_performance_rating'] = emp_data_df3['last_performance_rating'].replace(to_replace = 'B',value = 2)\n",
    "emp_data_df3['last_performance_rating'] = emp_data_df3['last_performance_rating'].replace(to_replace = 'C',value = 1)\n",
    "emp_data_df3['last_performance_rating'] = emp_data_df3['last_performance_rating'].replace(to_replace = 'PIP',value = 0)"
   ]
  },
  {
   "cell_type": "code",
   "execution_count": 528,
   "metadata": {
    "scrolled": true
   },
   "outputs": [
    {
     "data": {
      "text/html": [
       "<div>\n",
       "<style scoped>\n",
       "    .dataframe tbody tr th:only-of-type {\n",
       "        vertical-align: middle;\n",
       "    }\n",
       "\n",
       "    .dataframe tbody tr th {\n",
       "        vertical-align: top;\n",
       "    }\n",
       "\n",
       "    .dataframe thead th {\n",
       "        text-align: right;\n",
       "    }\n",
       "</style>\n",
       "<table border=\"1\" class=\"dataframe\">\n",
       "  <thead>\n",
       "    <tr style=\"text-align: right;\">\n",
       "      <th></th>\n",
       "      <th>emp_no</th>\n",
       "      <th>emp_title</th>\n",
       "      <th>birth_date</th>\n",
       "      <th>first_name</th>\n",
       "      <th>last_name</th>\n",
       "      <th>sex</th>\n",
       "      <th>hire_date</th>\n",
       "      <th>no_of_projects</th>\n",
       "      <th>last_performance_rating</th>\n",
       "      <th>last_date</th>\n",
       "      <th>left_org</th>\n",
       "      <th>dept_no</th>\n",
       "      <th>dept_name</th>\n",
       "      <th>salary</th>\n",
       "      <th>title_id</th>\n",
       "      <th>title</th>\n",
       "    </tr>\n",
       "  </thead>\n",
       "  <tbody>\n",
       "    <tr>\n",
       "      <th>0</th>\n",
       "      <td>473302</td>\n",
       "      <td>s0001</td>\n",
       "      <td>7/25/1953</td>\n",
       "      <td>Hideyuki</td>\n",
       "      <td>Zallocco</td>\n",
       "      <td>M</td>\n",
       "      <td>4/28/1990</td>\n",
       "      <td>2</td>\n",
       "      <td>3</td>\n",
       "      <td></td>\n",
       "      <td>0</td>\n",
       "      <td>d002</td>\n",
       "      <td>Finance</td>\n",
       "      <td>40000</td>\n",
       "      <td>s0001</td>\n",
       "      <td>Staff</td>\n",
       "    </tr>\n",
       "    <tr>\n",
       "      <th>1</th>\n",
       "      <td>475053</td>\n",
       "      <td>e0002</td>\n",
       "      <td>11/18/1954</td>\n",
       "      <td>Byong</td>\n",
       "      <td>Delgrande</td>\n",
       "      <td>F</td>\n",
       "      <td>9/7/1991</td>\n",
       "      <td>1</td>\n",
       "      <td>1</td>\n",
       "      <td></td>\n",
       "      <td>0</td>\n",
       "      <td>d004</td>\n",
       "      <td>Production</td>\n",
       "      <td>53422</td>\n",
       "      <td>e0002</td>\n",
       "      <td>Engineer</td>\n",
       "    </tr>\n",
       "    <tr>\n",
       "      <th>2</th>\n",
       "      <td>57444</td>\n",
       "      <td>e0002</td>\n",
       "      <td>1/30/1958</td>\n",
       "      <td>Berry</td>\n",
       "      <td>Babb</td>\n",
       "      <td>F</td>\n",
       "      <td>3/21/1992</td>\n",
       "      <td>9</td>\n",
       "      <td>3</td>\n",
       "      <td></td>\n",
       "      <td>0</td>\n",
       "      <td>d004</td>\n",
       "      <td>Production</td>\n",
       "      <td>48973</td>\n",
       "      <td>e0002</td>\n",
       "      <td>Engineer</td>\n",
       "    </tr>\n",
       "    <tr>\n",
       "      <th>3</th>\n",
       "      <td>421786</td>\n",
       "      <td>s0001</td>\n",
       "      <td>9/28/1957</td>\n",
       "      <td>Xiong</td>\n",
       "      <td>Verhoeff</td>\n",
       "      <td>M</td>\n",
       "      <td>11/26/1987</td>\n",
       "      <td>2</td>\n",
       "      <td>1</td>\n",
       "      <td></td>\n",
       "      <td>0</td>\n",
       "      <td>d003</td>\n",
       "      <td>Human Resources</td>\n",
       "      <td>40000</td>\n",
       "      <td>s0001</td>\n",
       "      <td>Staff</td>\n",
       "    </tr>\n",
       "    <tr>\n",
       "      <th>4</th>\n",
       "      <td>282238</td>\n",
       "      <td>e0003</td>\n",
       "      <td>10/28/1952</td>\n",
       "      <td>Abdelkader</td>\n",
       "      <td>Baumann</td>\n",
       "      <td>F</td>\n",
       "      <td>1/18/1991</td>\n",
       "      <td>6</td>\n",
       "      <td>2</td>\n",
       "      <td></td>\n",
       "      <td>0</td>\n",
       "      <td>d006</td>\n",
       "      <td>Quality Management</td>\n",
       "      <td>40000</td>\n",
       "      <td>e0003</td>\n",
       "      <td>Senior Engineer</td>\n",
       "    </tr>\n",
       "    <tr>\n",
       "      <th>5</th>\n",
       "      <td>263976</td>\n",
       "      <td>e0003</td>\n",
       "      <td>10/30/1959</td>\n",
       "      <td>Eran</td>\n",
       "      <td>Cusworth</td>\n",
       "      <td>M</td>\n",
       "      <td>11/14/1986</td>\n",
       "      <td>8</td>\n",
       "      <td>2</td>\n",
       "      <td>8/21/1993</td>\n",
       "      <td>1</td>\n",
       "      <td>d006</td>\n",
       "      <td>Quality Management</td>\n",
       "      <td>40000</td>\n",
       "      <td>e0003</td>\n",
       "      <td>Senior Engineer</td>\n",
       "    </tr>\n",
       "    <tr>\n",
       "      <th>6</th>\n",
       "      <td>273487</td>\n",
       "      <td>s0001</td>\n",
       "      <td>4/14/1957</td>\n",
       "      <td>Christoph</td>\n",
       "      <td>Parfitt</td>\n",
       "      <td>M</td>\n",
       "      <td>6/28/1991</td>\n",
       "      <td>10</td>\n",
       "      <td>3</td>\n",
       "      <td></td>\n",
       "      <td>0</td>\n",
       "      <td>d003</td>\n",
       "      <td>Human Resources</td>\n",
       "      <td>56087</td>\n",
       "      <td>s0001</td>\n",
       "      <td>Staff</td>\n",
       "    </tr>\n",
       "    <tr>\n",
       "      <th>7</th>\n",
       "      <td>461591</td>\n",
       "      <td>s0002</td>\n",
       "      <td>11/17/1964</td>\n",
       "      <td>Xudong</td>\n",
       "      <td>Samarati</td>\n",
       "      <td>M</td>\n",
       "      <td>11/13/1985</td>\n",
       "      <td>2</td>\n",
       "      <td>3</td>\n",
       "      <td>8/21/1994</td>\n",
       "      <td>1</td>\n",
       "      <td>d002</td>\n",
       "      <td>Finance</td>\n",
       "      <td>40000</td>\n",
       "      <td>s0002</td>\n",
       "      <td>Senior Staff</td>\n",
       "    </tr>\n",
       "    <tr>\n",
       "      <th>8</th>\n",
       "      <td>477657</td>\n",
       "      <td>e0002</td>\n",
       "      <td>12/18/1962</td>\n",
       "      <td>Lihong</td>\n",
       "      <td>Magliocco</td>\n",
       "      <td>M</td>\n",
       "      <td>10/23/1993</td>\n",
       "      <td>5</td>\n",
       "      <td>3</td>\n",
       "      <td></td>\n",
       "      <td>0</td>\n",
       "      <td>d006</td>\n",
       "      <td>Quality Management</td>\n",
       "      <td>54816</td>\n",
       "      <td>e0002</td>\n",
       "      <td>Engineer</td>\n",
       "    </tr>\n",
       "    <tr>\n",
       "      <th>9</th>\n",
       "      <td>219881</td>\n",
       "      <td>s0002</td>\n",
       "      <td>4/24/1956</td>\n",
       "      <td>Kwangyoen</td>\n",
       "      <td>Speek</td>\n",
       "      <td>F</td>\n",
       "      <td>2/14/1993</td>\n",
       "      <td>6</td>\n",
       "      <td>2</td>\n",
       "      <td></td>\n",
       "      <td>0</td>\n",
       "      <td>d009</td>\n",
       "      <td>Customer Service</td>\n",
       "      <td>40000</td>\n",
       "      <td>s0002</td>\n",
       "      <td>Senior Staff</td>\n",
       "    </tr>\n",
       "  </tbody>\n",
       "</table>\n",
       "</div>"
      ],
      "text/plain": [
       "   emp_no emp_title  birth_date  first_name  last_name sex   hire_date  \\\n",
       "0  473302     s0001   7/25/1953    Hideyuki   Zallocco   M   4/28/1990   \n",
       "1  475053     e0002  11/18/1954       Byong  Delgrande   F    9/7/1991   \n",
       "2   57444     e0002   1/30/1958       Berry       Babb   F   3/21/1992   \n",
       "3  421786     s0001   9/28/1957       Xiong   Verhoeff   M  11/26/1987   \n",
       "4  282238     e0003  10/28/1952  Abdelkader    Baumann   F   1/18/1991   \n",
       "5  263976     e0003  10/30/1959        Eran   Cusworth   M  11/14/1986   \n",
       "6  273487     s0001   4/14/1957   Christoph    Parfitt   M   6/28/1991   \n",
       "7  461591     s0002  11/17/1964      Xudong   Samarati   M  11/13/1985   \n",
       "8  477657     e0002  12/18/1962      Lihong  Magliocco   M  10/23/1993   \n",
       "9  219881     s0002   4/24/1956   Kwangyoen      Speek   F   2/14/1993   \n",
       "\n",
       "   no_of_projects  last_performance_rating  last_date left_org dept_no  \\\n",
       "0               2                        3                   0    d002   \n",
       "1               1                        1                   0    d004   \n",
       "2               9                        3                   0    d004   \n",
       "3               2                        1                   0    d003   \n",
       "4               6                        2                   0    d006   \n",
       "5               8                        2  8/21/1993        1    d006   \n",
       "6              10                        3                   0    d003   \n",
       "7               2                        3  8/21/1994        1    d002   \n",
       "8               5                        3                   0    d006   \n",
       "9               6                        2                   0    d009   \n",
       "\n",
       "            dept_name  salary title_id            title  \n",
       "0             Finance   40000    s0001            Staff  \n",
       "1          Production   53422    e0002         Engineer  \n",
       "2          Production   48973    e0002         Engineer  \n",
       "3     Human Resources   40000    s0001            Staff  \n",
       "4  Quality Management   40000    e0003  Senior Engineer  \n",
       "5  Quality Management   40000    e0003  Senior Engineer  \n",
       "6     Human Resources   56087    s0001            Staff  \n",
       "7             Finance   40000    s0002     Senior Staff  \n",
       "8  Quality Management   54816    e0002         Engineer  \n",
       "9    Customer Service   40000    s0002     Senior Staff  "
      ]
     },
     "execution_count": 528,
     "metadata": {},
     "output_type": "execute_result"
    }
   ],
   "source": [
    "emp_data_df3.head(10)"
   ]
  },
  {
   "cell_type": "code",
   "execution_count": 529,
   "metadata": {},
   "outputs": [
    {
     "data": {
      "text/plain": [
       "emp_no                     0\n",
       "emp_title                  0\n",
       "birth_date                 0\n",
       "first_name                 0\n",
       "last_name                  0\n",
       "sex                        0\n",
       "hire_date                  0\n",
       "no_of_projects             0\n",
       "last_performance_rating    0\n",
       "last_date                  0\n",
       "left_org                   0\n",
       "dept_no                    0\n",
       "dept_name                  0\n",
       "salary                     0\n",
       "title_id                   0\n",
       "title                      0\n",
       "dtype: int64"
      ]
     },
     "execution_count": 529,
     "metadata": {},
     "output_type": "execute_result"
    }
   ],
   "source": [
    "emp_data_df3.isna().sum()"
   ]
  },
  {
   "cell_type": "code",
   "execution_count": 530,
   "metadata": {},
   "outputs": [],
   "source": [
    "import matplotlib.pyplot as plt\n",
    "import seaborn as sn\n",
    "%matplotlib inline"
   ]
  },
  {
   "cell_type": "code",
   "execution_count": 531,
   "metadata": {},
   "outputs": [],
   "source": [
    "import pandas as pd"
   ]
  },
  {
   "cell_type": "code",
   "execution_count": 532,
   "metadata": {},
   "outputs": [
    {
     "data": {
      "text/plain": [
       "Index(['emp_no', 'emp_title', 'birth_date', 'first_name', 'last_name', 'sex',\n",
       "       'hire_date', 'no_of_projects', 'last_performance_rating', 'last_date',\n",
       "       'left_org', 'dept_no', 'dept_name', 'salary', 'title_id', 'title'],\n",
       "      dtype='object')"
      ]
     },
     "execution_count": 532,
     "metadata": {},
     "output_type": "execute_result"
    }
   ],
   "source": [
    "emp_data_df3.columns"
   ]
  },
  {
   "cell_type": "code",
   "execution_count": 533,
   "metadata": {},
   "outputs": [],
   "source": [
    "#create spark dataframe\n",
    "emp_data_df4 = spark.createDataFrame(emp_data_df3)"
   ]
  },
  {
   "cell_type": "code",
   "execution_count": 534,
   "metadata": {},
   "outputs": [],
   "source": [
    "from pyspark.sql.functions import lit,col"
   ]
  },
  {
   "cell_type": "code",
   "execution_count": 535,
   "metadata": {},
   "outputs": [],
   "source": [
    "#Columns that will be used as features and their types\n",
    "\n",
    "continuous_features = ['salary','no_of_projects']\n",
    "                    \n",
    "categorical_features = ['dept_no','title_id', 'sex']"
   ]
  },
  {
   "cell_type": "code",
   "execution_count": 536,
   "metadata": {},
   "outputs": [],
   "source": [
    "#Encoding all categorical features\n",
    "\n",
    "from pyspark.ml.feature \\\n",
    "import OneHotEncoderEstimator, StringIndexer, VectorAssembler, PolynomialExpansion, VectorIndexer"
   ]
  },
  {
   "cell_type": "code",
   "execution_count": 537,
   "metadata": {},
   "outputs": [],
   "source": [
    "#Create object of StringIndexer class and specify input and output column\n",
    "\n",
    "SI_dept_no = StringIndexer(inputCol='dept_no',outputCol='dept_no_Idx5')\n",
    "SI_sex = StringIndexer(inputCol='sex',outputCol='sex_Idx5')\n",
    "SI_title_id = StringIndexer(inputCol='title_id',outputCol='title_id_Idx5')"
   ]
  },
  {
   "cell_type": "code",
   "execution_count": 538,
   "metadata": {},
   "outputs": [],
   "source": [
    "#Transform the data\n",
    "emp_data_df4 = SI_dept_no.fit(emp_data_df4).transform(emp_data_df4)\n",
    "emp_data_df4 = SI_sex.fit(emp_data_df4).transform(emp_data_df4)\n",
    "emp_data_df4 = SI_title_id.fit(emp_data_df4).transform(emp_data_df4)\n"
   ]
  },
  {
   "cell_type": "code",
   "execution_count": 539,
   "metadata": {
    "scrolled": false
   },
   "outputs": [
    {
     "name": "stdout",
     "output_type": "stream",
     "text": [
      "+-------+------------+---+--------+--------+-------------+\n",
      "|dept_no|dept_no_Idx5|sex|sex_Idx5|title_id|title_id_Idx5|\n",
      "+-------+------------+---+--------+--------+-------------+\n",
      "|   d002|         8.0|  M|     0.0|   s0001|          0.0|\n",
      "|   d004|         1.0|  F|     1.0|   e0002|          2.0|\n",
      "|   d004|         1.0|  F|     1.0|   e0002|          2.0|\n",
      "|   d003|         7.0|  M|     0.0|   s0001|          0.0|\n",
      "|   d006|         6.0|  F|     1.0|   e0003|          1.0|\n",
      "+-------+------------+---+--------+--------+-------------+\n",
      "only showing top 5 rows\n",
      "\n"
     ]
    }
   ],
   "source": [
    "# view the transformed data\n",
    "emp_data_df4.select('dept_no', 'dept_no_Idx5', 'sex', 'sex_Idx5', 'title_id','title_id_Idx5').show(5)"
   ]
  },
  {
   "cell_type": "code",
   "execution_count": 540,
   "metadata": {},
   "outputs": [],
   "source": [
    "featureCols = continuous_features + ['dept_no_Idx5','sex_Idx5','title_id_Idx5'] "
   ]
  },
  {
   "cell_type": "code",
   "execution_count": 541,
   "metadata": {},
   "outputs": [],
   "source": [
    "assembler = VectorAssembler( inputCols = featureCols, outputCol = \"features\")"
   ]
  },
  {
   "cell_type": "code",
   "execution_count": 542,
   "metadata": {},
   "outputs": [],
   "source": [
    "train_df1 = assembler.transform(emp_data_df4 )"
   ]
  },
  {
   "cell_type": "code",
   "execution_count": 543,
   "metadata": {},
   "outputs": [],
   "source": [
    "train_df1 = train_df1.withColumn('label', train_df1['left_org'].cast('integer'))"
   ]
  },
  {
   "cell_type": "code",
   "execution_count": 544,
   "metadata": {},
   "outputs": [],
   "source": [
    "#Split the dataset\n",
    "\n",
    "train_df, test_df = train_df1.randomSplit( [0.7, 0.3], seed = 42 )"
   ]
  },
  {
   "cell_type": "markdown",
   "metadata": {},
   "source": [
    "### Logistic Regression"
   ]
  },
  {
   "cell_type": "code",
   "execution_count": 545,
   "metadata": {},
   "outputs": [],
   "source": [
    "from pyspark.ml.classification import LogisticRegression"
   ]
  },
  {
   "cell_type": "code",
   "execution_count": 546,
   "metadata": {},
   "outputs": [],
   "source": [
    "#lr = LogisticRegression(maxIter=500, regParam=0.0)\n",
    "\n",
    "lr = LogisticRegression(featuresCol = 'features', labelCol = 'label', maxIter=10)"
   ]
  },
  {
   "cell_type": "code",
   "execution_count": 547,
   "metadata": {},
   "outputs": [],
   "source": [
    "lm = lr.fit(train_df)"
   ]
  },
  {
   "cell_type": "code",
   "execution_count": 548,
   "metadata": {},
   "outputs": [],
   "source": [
    "#Make predictions on train data and evaluate\n",
    "\n",
    "y_pred_train = lm.transform(train_df)"
   ]
  },
  {
   "cell_type": "code",
   "execution_count": 549,
   "metadata": {},
   "outputs": [],
   "source": [
    "y_pred_test = lm.transform( test_df )"
   ]
  },
  {
   "cell_type": "code",
   "execution_count": 550,
   "metadata": {},
   "outputs": [
    {
     "name": "stdout",
     "output_type": "stream",
     "text": [
      "+--------------------+-----+----------+--------+\n",
      "|            features|label|prediction|left_org|\n",
      "+--------------------+-----+----------+--------+\n",
      "|[49324.0,6.0,0.0,...|    0|       0.0|       0|\n",
      "|[67854.0,4.0,2.0,...|    0|       0.0|       0|\n",
      "|[40000.0,5.0,0.0,...|    0|       0.0|       0|\n",
      "|[40000.0,9.0,6.0,...|    0|       0.0|       0|\n",
      "|[43658.0,4.0,0.0,...|    0|       0.0|       0|\n",
      "|[40000.0,10.0,0.0...|    0|       0.0|       0|\n",
      "|[44359.0,8.0,0.0,...|    1|       0.0|       1|\n",
      "|[48342.0,4.0,8.0,...|    0|       0.0|       0|\n",
      "|[71593.0,3.0,2.0,...|    0|       0.0|       0|\n",
      "|[40000.0,9.0,1.0,...|    0|       0.0|       0|\n",
      "+--------------------+-----+----------+--------+\n",
      "only showing top 10 rows\n",
      "\n"
     ]
    }
   ],
   "source": [
    "y_pred_test.select( 'features',  'label', 'prediction', 'left_org' ).show(10)"
   ]
  },
  {
   "cell_type": "code",
   "execution_count": 552,
   "metadata": {},
   "outputs": [
    {
     "name": "stdout",
     "output_type": "stream",
     "text": [
      "Test Area under ROC 0.5023182208281756\n"
     ]
    }
   ],
   "source": [
    "from pyspark.ml.evaluation import BinaryClassificationEvaluator\n",
    "\n",
    "evaluator = BinaryClassificationEvaluator()\n",
    "print('Test Area under ROC', evaluator.evaluate(y_pred_test))"
   ]
  },
  {
   "cell_type": "markdown",
   "metadata": {},
   "source": [
    "### Random Forest Classifier"
   ]
  },
  {
   "cell_type": "code",
   "execution_count": 553,
   "metadata": {},
   "outputs": [],
   "source": [
    "from pyspark.ml.classification import RandomForestClassifier\n",
    "RF = RandomForestClassifier( featuresCol='features', labelCol='label')\n",
    "RF_model = RF.fit(train_df)"
   ]
  },
  {
   "cell_type": "code",
   "execution_count": 554,
   "metadata": {},
   "outputs": [],
   "source": [
    "predictions = RF_model.transform(test_df)"
   ]
  },
  {
   "cell_type": "code",
   "execution_count": 555,
   "metadata": {},
   "outputs": [],
   "source": [
    "from pyspark.ml.evaluation import MulticlassClassificationEvaluator"
   ]
  },
  {
   "cell_type": "code",
   "execution_count": 556,
   "metadata": {},
   "outputs": [
    {
     "data": {
      "text/plain": [
       "0.9022659187325331"
      ]
     },
     "execution_count": 556,
     "metadata": {},
     "output_type": "execute_result"
    }
   ],
   "source": [
    "evaluator = MulticlassClassificationEvaluator(labelCol='label', predictionCol='prediction', metricName='accuracy')\n",
    "accuracy = evaluator.evaluate(predictions)\n",
    "accuracy"
   ]
  }
 ],
 "metadata": {
  "kernelspec": {
   "display_name": "Python 3",
   "language": "python",
   "name": "python3"
  },
  "language_info": {
   "codemirror_mode": {
    "name": "ipython",
    "version": 3
   },
   "file_extension": ".py",
   "mimetype": "text/x-python",
   "name": "python",
   "nbconvert_exporter": "python",
   "pygments_lexer": "ipython3",
   "version": "3.7.6"
  }
 },
 "nbformat": 4,
 "nbformat_minor": 4
}
